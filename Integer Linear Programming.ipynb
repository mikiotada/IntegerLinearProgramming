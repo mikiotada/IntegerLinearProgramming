{
 "cells": [
  {
   "cell_type": "markdown",
   "metadata": {},
   "source": [
    "## Application of inter linear programming (ILP)\n",
    "Use ILP to assign students into curses while maximizing student satisfiaction based on their preference lists."
   ]
  },
  {
   "cell_type": "code",
   "execution_count": 4,
   "metadata": {},
   "outputs": [],
   "source": [
    "import csv  \n",
    "#import pulp to call GLPK, an engine to solve ILP\n",
    "import pulp \n",
    "import re"
   ]
  },
  {
   "cell_type": "markdown",
   "metadata": {},
   "source": [
    "# Create functions that read and write CSV file"
   ]
  },
  {
   "cell_type": "code",
   "execution_count": 5,
   "metadata": {},
   "outputs": [],
   "source": [
    "#create a function called \"read_in_csv_to_list\" that reads csv \n",
    "def read_in_csv_to_list(filename, headers=False,only_row=None):\n",
    "    start_row = 0\n",
    "    if headers:\n",
    "        start_row = 1\n",
    "    with open(filename, 'r') as f:\n",
    "        data = [row for row in csv.reader(f.read().splitlines())]\n",
    "        \n",
    "        if only_row == None:\n",
    "            return data[start_row:]\n",
    "        else:\n",
    "            return data[only_row]"
   ]
  },
  {
   "cell_type": "code",
   "execution_count": 6,
   "metadata": {},
   "outputs": [],
   "source": [
    "#define a function that writes csv\n",
    "def write_list_to_csv(filename, data, headers=None):\n",
    "    with open(filename, 'w') as csvfile:\n",
    "        csv_writer = csv.writer(csvfile, delimiter=',', quotechar='\"', quoting=csv.QUOTE_ALL)\n",
    "        if headers:\n",
    "            csv_writer.writerow(headers)\n",
    "        for row in data:\n",
    "            csv_writer.writerow(row)"
   ]
  },
  {
   "cell_type": "markdown",
   "metadata": {},
   "source": [
    "# Load csv file that contains each student's major and five choices after converting the csv format"
   ]
  },
  {
   "cell_type": "code",
   "execution_count": 9,
   "metadata": {},
   "outputs": [
    {
     "name": "stdout",
     "output_type": "stream",
     "text": [
      "[['', 'SOCIAL STUDIES_ SOCIAL WORK_ SOCIOLOGY', 'course_21', 'course_1', 'course_9', 'course_19', 'course_3'], ['', 'COMMUNICATION_ HEALTH COMMUNICATION__ THEATRE', 'course_17', 'course_9', 'course_2', 'course_1', 'course_16']]\n"
     ]
    }
   ],
   "source": [
    "#load csv file that contains each student's POE and five choices\n",
    "student_choice_data = read_in_csv_to_list('StudentSurveyData.csv', headers=True) \n",
    "print(student_choice_data[:2])"
   ]
  },
  {
   "cell_type": "markdown",
   "metadata": {},
   "source": [
    "## Load csv file that contains all courses "
   ]
  },
  {
   "cell_type": "code",
   "execution_count": 29,
   "metadata": {},
   "outputs": [
    {
     "name": "stdout",
     "output_type": "stream",
     "text": [
      "['course_0', 'course_1', 'course_2', 'course_3', 'course_4', 'course_5', 'course_6', 'course_7', 'course_8', 'course_9', 'course_10', 'course_11', 'course_12', 'course_13', 'course_14', 'course_15', 'course_16', 'course_17', 'course_18', 'course_19', 'course_20', 'course_21', 'course_22', 'course_23', 'course_24']\n"
     ]
    }
   ],
   "source": [
    "#define them as courses_data\n",
    "courses_data_raw = read_in_csv_to_list('CourseList.csv', headers=False, only_row=0)\n",
    "\n",
    "#clean course names\n",
    "COURSE_LIST = [re.sub('(^\\W+)|(\\W+$)','',n) for n in courses_data_raw]\n",
    "print(COURSE_LIST)"
   ]
  },
  {
   "cell_type": "markdown",
   "metadata": {},
   "source": [
    "## Check the number of students and courses "
   ]
  },
  {
   "cell_type": "code",
   "execution_count": 30,
   "metadata": {},
   "outputs": [
    {
     "name": "stdout",
     "output_type": "stream",
     "text": [
      "The number of students is 361\n",
      "The number of courses is 25\n"
     ]
    }
   ],
   "source": [
    "NUM_STUDENTS = len(student_choice_data)\n",
    "NUM_COURSE = len(COURSE_LIST)\n",
    "\n",
    "#there is only one session in our study \n",
    "NUM_PERIODS = 1 \n",
    "\n",
    "print('The number of students is {}'.format(NUM_STUDENTS))\n",
    "print('The number of courses is {}'.format(NUM_COURSE))"
   ]
  },
  {
   "cell_type": "markdown",
   "metadata": {},
   "source": [
    "## Define minimum and maximum numbers of students in a course and alpha of the objective function"
   ]
  },
  {
   "cell_type": "code",
   "execution_count": 31,
   "metadata": {},
   "outputs": [
    {
     "name": "stdout",
     "output_type": "stream",
     "text": [
      "The min number of course size is 14\n",
      "The max number of course size is 16\n",
      "The alpha of objective function is 10\n"
     ]
    }
   ],
   "source": [
    "#define the minimum number of students in a course \n",
    "MIN_NUM_IN_COURSE = 14\n",
    "\n",
    "#define the maximum number of students in a course \n",
    "MAX_NUM_IN_COURSE = 16\n",
    "\n",
    "#define alpha of the objective function \n",
    "PARA_OBJECTIVE = 10\n",
    "\n",
    "print('The min number of course size is {}'.format(MIN_NUM_IN_COURSE))\n",
    "print('The max number of course size is {}'.format(MAX_NUM_IN_COURSE))\n",
    "print('The alpha of objective function is {}'.format(PARA_OBJECTIVE))"
   ]
  },
  {
   "cell_type": "markdown",
   "metadata": {},
   "source": [
    "## Load csv file that contains all POEs "
   ]
  },
  {
   "cell_type": "code",
   "execution_count": 32,
   "metadata": {},
   "outputs": [
    {
     "name": "stdout",
     "output_type": "stream",
     "text": [
      "['BioBiochemChem', 'ArtsHumanities', 'SocialScience', 'Engineering', 'EnvironmentalRealted', 'Exploratory', 'OR Engineering EnvironmentalRealted']\n"
     ]
    }
   ],
   "source": [
    "poe_data_raw = read_in_csv_to_list('MajorsList.csv', headers=False, only_row=0)\n",
    "POE_LIST = [re.sub('(^\\W+)|(\\W+$)','',n) for n in poe_data_raw]\n",
    "print(POE_LIST)"
   ]
  },
  {
   "cell_type": "markdown",
   "metadata": {},
   "source": [
    "## Load csv file that contains the maximum number of students in each course that can have the same major"
   ]
  },
  {
   "cell_type": "code",
   "execution_count": 33,
   "metadata": {},
   "outputs": [
    {
     "name": "stdout",
     "output_type": "stream",
     "text": [
      "[6, 6, 4, 4, 4, 4, 10]\n"
     ]
    }
   ],
   "source": [
    "poemax_data_raw = read_in_csv_to_list('MajorMax.csv', headers=False, only_row=0)\n",
    "POEMAX_STRING_LIST = [re.sub('(^\\W+)|(\\W+$)','',n) for n in poemax_data_raw]\n",
    "POEMAX_LIST = list(map(int, POEMAX_STRING_LIST))\n",
    "print(POEMAX_LIST)"
   ]
  },
  {
   "cell_type": "code",
   "execution_count": 34,
   "metadata": {},
   "outputs": [
    {
     "name": "stdout",
     "output_type": "stream",
     "text": [
      "Max_num student major in BioBiochemChem is 6\n",
      "Max_num student major in ArtsHumanities is 6\n",
      "Max_num student major in SocialScience is 4\n",
      "Max_num student major in Engineering is 4\n",
      "Max_num student major in EnvironmentalRealted is 4\n",
      "Max_num student major in Exploratory is 4\n",
      "Max_num student major in OR Engineering EnvironmentalRealted is 10\n"
     ]
    }
   ],
   "source": [
    "for major, max_num in zip(POE_LIST, POEMAX_LIST):\n",
    "    print(f\"Max_num student major in {major} is {max_num}\")"
   ]
  },
  {
   "cell_type": "markdown",
   "metadata": {},
   "source": [
    "# Give a courseID to each course "
   ]
  },
  {
   "cell_type": "code",
   "execution_count": 35,
   "metadata": {},
   "outputs": [],
   "source": [
    "cources_dict = {cource: n for n, cource in enumerate(COURSE_LIST)}\n",
    "cources_dict_reverse = {n: cource for n, cource in enumerate(COURSE_LIST)}\n",
    "\n",
    "#print(\"'the name of course' : course ID = \\n {} \\n\".format(cources_dict))\n",
    "#print(\"course ID : 'the name of course' = \\n {}\".format(cources_dict_reverse))"
   ]
  },
  {
   "cell_type": "markdown",
   "metadata": {},
   "source": [
    "# Store the information of each student in a useful format "
   ]
  },
  {
   "cell_type": "code",
   "execution_count": 38,
   "metadata": {},
   "outputs": [],
   "source": [
    "#define the placehold for the information of all students \n",
    "student_info_dicts = {}\n",
    "\n",
    "for i, row in enumerate(student_choice_data):\n",
    "    name, major, choice1, choice2, choice3, choice4, choice5 = row\n",
    "    choices = [choice1, choice2, choice3, choice4, choice5]\n",
    "    student_info_dicts[i] = {'choices': [cources_dict[c] for c in choices],\n",
    "                             'choices_full_names': choices,\n",
    "                             'name': name,\n",
    "                             'major': major,\n",
    "                             'assignment': []}\n",
    "\n",
    "#print(\"studentID : 'choices':[], 'choices_full_names':[], 'name':'', 'major':'', 'assignment':[] = \\n{}\".format(student_info_dicts))"
   ]
  },
  {
   "cell_type": "markdown",
   "metadata": {},
   "source": [
    "# Set up the ILP problem "
   ]
  },
  {
   "cell_type": "code",
   "execution_count": 39,
   "metadata": {},
   "outputs": [],
   "source": [
    "#want to maximize the value of the objective function \n",
    "prob = pulp.LpProblem(\"StudentClass\", pulp.LpMaximize) \n",
    "\n",
    "#if we want to minimize the value of the objection function, use pulp.LpMaximize\n",
    "#prob2 = pulp.LpProblem(\"StudentClass\", pulp.LpMaximize) \n"
   ]
  },
  {
   "cell_type": "markdown",
   "metadata": {},
   "source": [
    "# Define decision variables "
   ]
  },
  {
   "cell_type": "code",
   "execution_count": 40,
   "metadata": {},
   "outputs": [],
   "source": [
    "#create a placeholder to store the list of coordinates for decision variables \n",
    "decision_var_matrix = []\n",
    "for i in range(NUM_STUDENTS):\n",
    "    for j in range(NUM_COURSE):\n",
    "        decision_var_matrix.append((i, j))\n",
    "#print(\"list of decision variables formed as (studentID, courseID) =  : \\n {}\".format(decision_var_matrix))"
   ]
  },
  {
   "cell_type": "code",
   "execution_count": 41,
   "metadata": {},
   "outputs": [],
   "source": [
    "#create a placeholder to store the decision variables \n",
    "decision_vars_list = []\n",
    "for i in range(NUM_PERIODS):\n",
    "    variable_type_name = 'period_%s_decision_variable' % (i + 1)\n",
    "    decision_vars_list.append(pulp.LpVariable.dicts(name=variable_type_name,\n",
    "                                                    indexs=decision_var_matrix,\n",
    "                                                    lowBound=0,\n",
    "                                                    upBound=1,\n",
    "                                                    cat=pulp.LpInteger))\n",
    "#print(decision_vars_list)\n"
   ]
  },
  {
   "cell_type": "markdown",
   "metadata": {},
   "source": [
    "### All decision variables are binary 0 or 1. If one decision varialbe (studentID, courseID) has the value of 1, then studentID is assigned into the corresponding courseID. The value of 0 means that studentID is not assigned into the corresponding courseID. \n",
    "### For example, (1, 11) = 1. It means that a student whose studentID is 1 is assigned into the course whose courseID is 11. (5, 9) = 0 means that a student whose studentID is 5 is not assigned into the course whose courseID is 9.\n"
   ]
  },
  {
   "cell_type": "markdown",
   "metadata": {},
   "source": [
    "# Define constraints "
   ]
  },
  {
   "cell_type": "markdown",
   "metadata": {},
   "source": [
    "## CONSTRAINT 1: each student must be assigned into only one course "
   ]
  },
  {
   "cell_type": "code",
   "execution_count": 42,
   "metadata": {},
   "outputs": [],
   "source": [
    "for i in range(NUM_STUDENTS):\n",
    "    for k in range(NUM_PERIODS):\n",
    "        vars_to_sum = [decision_vars_list[k][(i, j)] for j in range(NUM_COURSE)]\n",
    "        prob += pulp.lpSum(vars_to_sum) == 1 \n"
   ]
  },
  {
   "cell_type": "markdown",
   "metadata": {},
   "source": [
    "### Consider one student whose studentID is 0. If there are ten courses offered by JC, then \n",
    "### (0, 0) + (0, 1) + (0, 2) + (0, 3) + (0, 4) + (0, 5) + (0, 6) + (0, 7) +(0, 8) + (0, 9) = 1\n",
    "### If this student is assigned into the courseID 5, then (0, 5) = 1, and the rest of all decision variables are equal to 0. "
   ]
  },
  {
   "cell_type": "markdown",
   "metadata": {},
   "source": [
    "## CONSTRAINT 2: each course must have a minimum number of students"
   ]
  },
  {
   "cell_type": "code",
   "execution_count": 43,
   "metadata": {},
   "outputs": [],
   "source": [
    "for j in range(NUM_COURSE):\n",
    "    for k in range(NUM_PERIODS):\n",
    "        vars_to_sum = [decision_vars_list[k][(i, j)] for i in range(NUM_STUDENTS)]\n",
    "        prob += pulp.lpSum(vars_to_sum) >= MIN_NUM_IN_COURSE \n",
    "        "
   ]
  },
  {
   "cell_type": "markdown",
   "metadata": {},
   "source": [
    "### Consider a course whose studentID is 5, and the mininum number of students in one course is 10. If there are three hundred students, then \n",
    "### (0, 5) + (1, 5) + (2, 5) + (3, 5) + ... + (298, 5) + (299, 5) >= 10.\n",
    "### If studentID 1, 4, 34, 78, 134, 166, 204, 210, 250,  289, 290, and 295 are in the courseID 5, then (1, 5) + (4, 5) + (34, 5) + (78, 5) + (134, 5) + (166, 5) + (204, 5) + (210, 5) + (250, 5) + (289, 5) +  (290, 5) + (295, 5) = 12, where (1, 5) = (4, 5) = (34, 5) = (78, 5) = (134, 5) = (166, 5) = (204, 5) = (210, 5) = (250, 5) = (289, 5) =  (290, 5) = (295, 5) = 1."
   ]
  },
  {
   "cell_type": "markdown",
   "metadata": {},
   "source": [
    "## CONSTRAINT 3: each course can only have up to a maximum number of students"
   ]
  },
  {
   "cell_type": "code",
   "execution_count": 44,
   "metadata": {},
   "outputs": [],
   "source": [
    "for j in range(NUM_COURSE):\n",
    "    for k in range(NUM_PERIODS):\n",
    "        vars_to_sum = [decision_vars_list[k][(i, j)] for i in range(NUM_STUDENTS)]\n",
    "        prob += pulp.lpSum(vars_to_sum) <= MAX_NUM_IN_COURSE #prob = linear constraint  \n"
   ]
  },
  {
   "cell_type": "markdown",
   "metadata": {},
   "source": [
    "### Consider a course whose studentID is 5, and the maximum number of students in one course is 15. If there are three hundred students, then \n",
    "### (0, 5) + (1, 5) + (2, 5) + (3, 5) + ... + (298, 5) + (299, 5) <= 15.\n",
    "### If studentID 1, 4, 34, 78, 98, 134, 166, 204, 210, 250,  289, 290, and 295 are in the courseID 5, then (1, 5) + (4, 5) + (34, 5) + (78, 5) + (98, 5) +  (134, 5) + (166, 5) + (204, 5) + (210, 5) + (250, 5) + (289, 5) +  (290, 5) + (295, 5) = 12, where (1, 5) = (4, 5) = (34, 5) = (78, 5) = (98, 5) = (134, 5) = (166, 5) = (204, 5) = (210, 5) = (250, 5) = (289, 5) =  (290, 5) = (295, 5) = 1."
   ]
  },
  {
   "cell_type": "markdown",
   "metadata": {},
   "source": [
    "## CONSTRAINT 4: define the maximum number of the same major students in one course and also the maximum number of several specific major students in one course"
   ]
  },
  {
   "cell_type": "code",
   "execution_count": 45,
   "metadata": {},
   "outputs": [],
   "source": [
    "for c in range(NUM_COURSE):\n",
    "    for p in range(NUM_PERIODS):\n",
    "        vars_to_sum = {}\n",
    "               \n",
    "        for poe in POE_LIST:\n",
    "            vars_to_sum[poe] = []\n",
    "            \n",
    "        \n",
    "        #update vars to sum for each poe\n",
    "        for s in range(NUM_STUDENTS):\n",
    "            major = student_info_dicts[s]['major']\n",
    "            dvar = decision_vars_list[p][(s,c)]\n",
    "            \n",
    "            \n",
    "            for poe in POE_LIST:\n",
    "                if (poe == major) or (poe.find('OR ') == 0 and poe.find(major) != -1):\n",
    "                    vars_to_sum[poe].append(dvar)\n",
    "        \n",
    "        for poe in range(len(POE_LIST)):\n",
    "            #print('add constraint for ' + POES[poe] + '=' + str(MAX_STUDENTS_BY_POE[poe]) + ' in ' + str(c))\n",
    "            prob += pulp.lpSum(vars_to_sum[POE_LIST[poe]]) <= POEMAX_LIST[poe] \n",
    "            \n",
    "#print(prob)"
   ]
  },
  {
   "cell_type": "markdown",
   "metadata": {},
   "source": [
    "## Constraint 5: All students are assigned into one of their five preferences "
   ]
  },
  {
   "cell_type": "code",
   "execution_count": 19,
   "metadata": {},
   "outputs": [],
   "source": [
    "for i in range(NUM_STUDENTS):\n",
    "    vars_to_sum = [decision_vars_list[k][(i, j)] for j in student_info_dicts[i]['choices']\n",
    "                                                 for k in range(NUM_PERIODS)]\n",
    "    prob += pulp.lpSum(vars_to_sum) == 1 \n",
    "    \n",
    "#print(\"Make sure that each student will be assigned to one of their four chocies : \\n {}\".format(prob))"
   ]
  },
  {
   "cell_type": "markdown",
   "metadata": {},
   "source": [
    "## Define the objective function "
   ]
  },
  {
   "cell_type": "code",
   "execution_count": 46,
   "metadata": {},
   "outputs": [],
   "source": [
    "objective_function_parts = []\n",
    "for i in range(NUM_STUDENTS):\n",
    "    for k in range(NUM_PERIODS):\n",
    "        choice1, choice2, choice3, choice4, choice5 = student_info_dicts[i]['choices']\n",
    "        objective_function_parts.append([decision_vars_list[k][(i, choice1)]*(PARA_OBJECTIVE**4)])\n",
    "        objective_function_parts.append([decision_vars_list[k][(i, choice2)]*(PARA_OBJECTIVE**3)])\n",
    "        objective_function_parts.append([decision_vars_list[k][(i, choice3)]*(PARA_OBJECTIVE**2)])\n",
    "        objective_function_parts.append([decision_vars_list[k][(i, choice4)]*(PARA_OBJECTIVE**1)])\n",
    "        objective_function_parts.append([decision_vars_list[k][(i, choice5)]*1])\n",
    "\n",
    "\n",
    "prob += pulp.lpSum(objective_function_parts)   \n",
    "#print(\"Want max of (student_ID, activity_ID[choices][0])*1000 + (student_ID, activity_ID[choices][1])*100 + (student_ID, activity_ID[choices][2])*10 + (student_ID, activity_ID[choices][3])*1 : \\n {}\".format(prob))"
   ]
  },
  {
   "cell_type": "markdown",
   "metadata": {},
   "source": [
    "## Solve the ILP problem "
   ]
  },
  {
   "cell_type": "code",
   "execution_count": 47,
   "metadata": {},
   "outputs": [
    {
     "name": "stdout",
     "output_type": "stream",
     "text": [
      "Objective value: 3122200\n",
      "Optimal\n"
     ]
    }
   ],
   "source": [
    "solution_found = prob.solve(pulp.GLPK())\n",
    "\n",
    "#Anything other than solution_found == 1 indicates some issue with finding a solution that fits constraints)\n",
    "assert solution_found == 1 #\"solution_glpk not found\"\n",
    "\n",
    "print(\"Objective value:\", pulp.value(prob.objective))\n",
    "print(pulp.LpStatus[prob.status])"
   ]
  },
  {
   "cell_type": "markdown",
   "metadata": {},
   "source": [
    "## Write the final result in CSV "
   ]
  },
  {
   "cell_type": "markdown",
   "metadata": {},
   "source": [
    "### Append the assigned course to each student "
   ]
  },
  {
   "cell_type": "code",
   "execution_count": 48,
   "metadata": {},
   "outputs": [],
   "source": [
    "for period in range(NUM_PERIODS):\n",
    "    for i in range(NUM_STUDENTS):\n",
    "        for j in range(NUM_COURSE):\n",
    "            if decision_vars_list[period][(i,j)].varValue == 1:\n",
    "                student_info_dicts[i]['assignment'].append(cources_dict_reverse[j])\n",
    "                #print(student_info_dicts[i]['assignment'][0])"
   ]
  },
  {
   "cell_type": "markdown",
   "metadata": {},
   "source": [
    "### Create CSV that contains the column showing the assigned course for each student "
   ]
  },
  {
   "cell_type": "code",
   "execution_count": 49,
   "metadata": {},
   "outputs": [],
   "source": [
    "results = []\n",
    "for i in range(NUM_STUDENTS):\n",
    "    student_dict = student_info_dicts[i]\n",
    "    name = student_dict['name']\n",
    "    major = student_dict['major']\n",
    "    choices = student_dict['choices_full_names']\n",
    "    choice1, choice2, choice3, choice4, choice5 = choices\n",
    "    assignment = student_dict['assignment'][0]\n",
    "    row = [name, major, choice1, choice2, choice3, choice4, choice5, assignment]\n",
    "    results.append(row)\n",
    "\n",
    "headers = ['name', 'major', 'choice1', 'choice2', 'choice3', 'choice4', 'choice5',\n",
    "           'assignment']\n",
    "\n",
    "write_list_to_csv('Result.csv', data=results, headers=headers)"
   ]
  },
  {
   "cell_type": "markdown",
   "metadata": {},
   "source": [
    "## Check the final outcome\n",
    "### Show the number of total students who are assigned into their first, second, third, and fourth choice "
   ]
  },
  {
   "cell_type": "code",
   "execution_count": 50,
   "metadata": {},
   "outputs": [
    {
     "name": "stdout",
     "output_type": "stream",
     "text": [
      "307\n",
      "52\n",
      "2\n",
      "0\n",
      "0\n",
      "percent who got choice 1: 85.0415512465374\n",
      "percent who got choice 2: 14.40443213296399\n",
      "percent who got choice 3: 0.554016620498615\n",
      "percent who got choice 4: 0.0\n",
      "percent who got choice 5: 0.0\n"
     ]
    }
   ],
   "source": [
    "total_got_choice1 = 0\n",
    "total_got_choice2 = 0\n",
    "total_got_choice3 = 0\n",
    "total_got_choice4 = 0\n",
    "total_got_choice5 = 0\n",
    "\n",
    "\n",
    "for i in range(NUM_STUDENTS):\n",
    "    #print(student_info_dicts[i]['choices_full_names'])\n",
    "    choices = student_info_dicts[i]['choices_full_names']\n",
    "    #print(choices)\n",
    "    choice1, choice2, choice3, choice4, choice5 = choices\n",
    "    #print(student_info_dicts[i]['assignments'])\n",
    "    #print(student_info_dicts[i]['assignments'])\n",
    "    assignments = student_info_dicts[i]['assignment']\n",
    "    \n",
    "    #print(assignments)\n",
    "    \n",
    "    got_choice1, got_choice2, got_choice3, got_choice4, got_choice5  = 0, 0, 0, 0, 0\n",
    "    if choice1 in assignments: got_choice1 = 1\n",
    "    if choice2 in assignments: got_choice2 = 1\n",
    "    if choice3 in assignments: got_choice3 = 1\n",
    "    if choice4 in assignments: got_choice4 = 1\n",
    "    if choice5 in assignments: got_choice5 = 1\n",
    "        \n",
    "    total_got_choice1 += got_choice1\n",
    "    total_got_choice2 += got_choice2\n",
    "    total_got_choice3 += got_choice3\n",
    "    total_got_choice4 += got_choice4\n",
    "    total_got_choice5 += got_choice5\n",
    "\n",
    "\n",
    "print(total_got_choice1)\n",
    "print(total_got_choice2)\n",
    "print(total_got_choice3)\n",
    "print(total_got_choice4)\n",
    "print(total_got_choice5)\n",
    "\n",
    "print(\"percent who got choice 1:\", float(total_got_choice1) / NUM_STUDENTS * 100)\n",
    "print(\"percent who got choice 2:\", float(total_got_choice2) / NUM_STUDENTS * 100)\n",
    "print(\"percent who got choice 3:\", float(total_got_choice3) / NUM_STUDENTS * 100)\n",
    "print(\"percent who got choice 4:\", float(total_got_choice4) / NUM_STUDENTS * 100)\n",
    "print(\"percent who got choice 5:\", float(total_got_choice5) / NUM_STUDENTS * 100)"
   ]
  },
  {
   "cell_type": "code",
   "execution_count": null,
   "metadata": {},
   "outputs": [],
   "source": []
  }
 ],
 "metadata": {
  "kernelspec": {
   "display_name": "Python 3",
   "language": "python",
   "name": "python3"
  },
  "language_info": {
   "codemirror_mode": {
    "name": "ipython",
    "version": 3
   },
   "file_extension": ".py",
   "mimetype": "text/x-python",
   "name": "python",
   "nbconvert_exporter": "python",
   "pygments_lexer": "ipython3",
   "version": "3.7.7"
  }
 },
 "nbformat": 4,
 "nbformat_minor": 2
}
